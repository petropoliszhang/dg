{
  "nbformat": 4,
  "nbformat_minor": 0,
  "metadata": {
    "colab": {
      "name": "DG.ipynb",
      "provenance": [],
      "collapsed_sections": []
    },
    "kernelspec": {
      "name": "python3",
      "display_name": "Python 3"
    }
  },
  "cells": [
    {
      "cell_type": "markdown",
      "metadata": {
        "id": "L9Yhqr_3w0ZA",
        "colab_type": "text"
      },
      "source": [
        "This repositary contains the solution to the coding homework for APMA 2810 Discontinuous Galerkin Methods by Prof. Chi-Wang Shu. Below is a description of these homeworks(including 1 take-home exam). The written homework is not included here."
      ]
    },
    {
      "cell_type": "markdown",
      "metadata": {
        "id": "x3e31aADwzJY",
        "colab_type": "text"
      },
      "source": [
        "### **HW1**"
      ]
    },
    {
      "cell_type": "markdown",
      "metadata": {
        "id": "rqZw6zGhxTPq",
        "colab_type": "text"
      },
      "source": [
        "Use DG to find the solution to the following equation:\n",
        "\\begin{equation}\n",
        "\\left\\{\n",
        "             \\begin{array}{lr}\n",
        "             u_x=\\cos x, &  0\\leq x \\leq 1\\\\\n",
        "             u(0)=0 &  \n",
        "             \\end{array}\n",
        "\\right.\n",
        "\\end{equation}\n",
        "and plot $L_1$, $L_2$, $L_{\\infty}$ error tables."
      ]
    },
    {
      "cell_type": "markdown",
      "metadata": {
        "id": "8vznJ76lyY-U",
        "colab_type": "text"
      },
      "source": [
        "### **HW2**"
      ]
    },
    {
      "cell_type": "markdown",
      "metadata": {
        "id": "NEBcXlS6ymvw",
        "colab_type": "text"
      },
      "source": [
        "Use DG to find the solution to the following equation with two different initial conditions on $[0,2\\pi]\\times[0,2\\pi]$:\n",
        "\\begin{equation}\n",
        "\\left\\{\n",
        "             \\begin{array}{lr}\n",
        "             u_t+u_x=0, \\\\\n",
        "             u(x,0)=\\sin(x) &  \n",
        "             \\end{array}\n",
        "\\right.\n",
        "\\end{equation}\n",
        "\\\n",
        "\\begin{equation}\n",
        "\\left\\{\n",
        "             \\begin{array}{lr}\n",
        "             u_t+u_x=0, \\\\\n",
        "             u(x,0)=1, &  x\\in(\\frac{\\pi}{2},\\frac{3\\pi}{2})\\\\\n",
        "             u(x,0)=0, &  x\\in(0,\\frac{\\pi}{2})\\cup(\\frac{3\\pi}{2},2\\pi)\n",
        "             \\end{array}\n",
        "\\right.\n",
        "\\end{equation}\n",
        "and plot $L_1$, $L_2$, $L_{\\infty}$ error tables."
      ]
    },
    {
      "cell_type": "markdown",
      "metadata": {
        "id": "2wGKo2TVzRws",
        "colab_type": "text"
      },
      "source": [
        "### **HW3**"
      ]
    },
    {
      "cell_type": "markdown",
      "metadata": {
        "id": "isJkqufDzrKN",
        "colab_type": "text"
      },
      "source": [
        "Plot moment error tables of the problem last week."
      ]
    },
    {
      "cell_type": "markdown",
      "metadata": {
        "id": "6YvLEewVz9To",
        "colab_type": "text"
      },
      "source": [
        "### **HW4**"
      ]
    },
    {
      "cell_type": "markdown",
      "metadata": {
        "id": "-qlC5CsV0N_2",
        "colab_type": "text"
      },
      "source": [
        "Apply TVD limiter and TVB limiter with $M = 0.1$, $1$, $5$, $10$ to the problem in week 2. Plot error tables and report the points changed by the limiters."
      ]
    },
    {
      "cell_type": "markdown",
      "metadata": {
        "id": "iLvi_sEK0zLh",
        "colab_type": "text"
      },
      "source": [
        "### **HW5**"
      ]
    },
    {
      "cell_type": "markdown",
      "metadata": {
        "id": "5cYoSEvl012J",
        "colab_type": "text"
      },
      "source": [
        "Apply Bound Preserving Limiter to the problem in week 2. Plot error tables."
      ]
    },
    {
      "cell_type": "markdown",
      "metadata": {
        "id": "g6snWwJp1IAg",
        "colab_type": "text"
      },
      "source": [
        "### **HW6**"
      ]
    },
    {
      "cell_type": "markdown",
      "metadata": {
        "id": "dRs3hIFB1JIF",
        "colab_type": "text"
      },
      "source": [
        "Use LDG with central flux and alternating flux to find the solution to the following equation on $[0,2\\pi]\\times[0,1]$:\n",
        "\\begin{equation}\n",
        "\\left\\{\n",
        "             \\begin{array}{lr}\n",
        "             u_t=u_{xx}, \\\\\n",
        "             u(x,0)=\\sin(x) &  \n",
        "             \\end{array}\n",
        "\\right.\n",
        "\\end{equation}\n",
        "and plot $L_1$, $L_2$, $L_{\\infty}$ error tables."
      ]
    },
    {
      "cell_type": "markdown",
      "metadata": {
        "id": "4Tup7xco1tfz",
        "colab_type": "text"
      },
      "source": [
        "### **HW7**"
      ]
    },
    {
      "cell_type": "markdown",
      "metadata": {
        "id": "u5x6AR6j1ueG",
        "colab_type": "text"
      },
      "source": [
        "Use Bauman-Oden, SIPG and Ultra-Weak scheme to solve the problem last week and plot error tables."
      ]
    },
    {
      "cell_type": "markdown",
      "metadata": {
        "id": "AC2cOJoX2QUc",
        "colab_type": "text"
      },
      "source": [
        "### **HW8**"
      ]
    },
    {
      "cell_type": "markdown",
      "metadata": {
        "id": "KAOxo28P2SAR",
        "colab_type": "text"
      },
      "source": [
        "Use LDG to find the solution to the following equation on $[0,2\\pi]\\times[0,1]$:\n",
        "\\begin{equation}\n",
        "\\left\\{\n",
        "             \\begin{array}{lr}\n",
        "             u_t=u_{xxx}, \\\\\n",
        "             u(x,0)=\\sin(x) &  \n",
        "             \\end{array}\n",
        "\\right.\n",
        "\\end{equation}\n",
        "and plot $L_1$, $L_2$, $L_{\\infty}$ error tables."
      ]
    },
    {
      "cell_type": "markdown",
      "metadata": {
        "id": "X1SybGSg2d2y",
        "colab_type": "text"
      },
      "source": [
        "### **HW9**"
      ]
    },
    {
      "cell_type": "markdown",
      "metadata": {
        "id": "1GrbQo6D2gea",
        "colab_type": "text"
      },
      "source": [
        "Use Ultra-weak scheme to solve the problem last week and plot error tables."
      ]
    },
    {
      "cell_type": "markdown",
      "metadata": {
        "id": "VdvBsIxq2peW",
        "colab_type": "text"
      },
      "source": [
        "### **Final Exam**"
      ]
    },
    {
      "cell_type": "markdown",
      "metadata": {
        "id": "wS2qsfAA2tX0",
        "colab_type": "text"
      },
      "source": [
        "Use LDG to find the solution to the following two equations on $[0,2\\pi]\\times[0,1]$:\n",
        "\\begin{equation}\n",
        "\\left\\{\n",
        "             \\begin{array}{lr}\n",
        "             u_t+u_x=\\epsilon u_{xx}, \\\\\n",
        "             u(x,0)=\\sin(x) &  \n",
        "             \\end{array}\n",
        "\\right.\n",
        "\\end{equation}\n",
        "\\\n",
        "\\begin{equation}\n",
        "\\left\\{\n",
        "             \\begin{array}{lr}\n",
        "             u_t+u_x=\\epsilon u_{xxx}, \\\\\n",
        "             u(x,0)=\\sin(x) &  \n",
        "             \\end{array}\n",
        "\\right.\n",
        "\\end{equation}\n",
        "and plot $L_1$, $L_2$, $L_{\\infty}$ error tables."
      ]
    }
  ]
}